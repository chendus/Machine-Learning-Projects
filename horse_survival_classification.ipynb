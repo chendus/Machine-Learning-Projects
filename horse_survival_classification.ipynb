{
 "cells": [
  {
   "cell_type": "code",
   "execution_count": 164,
   "metadata": {
    "collapsed": true,
    "pycharm": {
     "name": "#%%\n"
    }
   },
   "outputs": [],
   "source": [
    "import pandas as pd\n",
    "\n",
    "%matplotlib inline"
   ]
  },
  {
   "cell_type": "code",
   "execution_count": 165,
   "outputs": [],
   "source": [
    "animal_surv = pd.read_csv(\"horse.csv\")"
   ],
   "metadata": {
    "collapsed": false,
    "pycharm": {
     "name": "#%%\n"
    }
   }
  },
  {
   "cell_type": "code",
   "execution_count": 166,
   "outputs": [
    {
     "data": {
      "text/plain": "  surgery    age  hospital_number  rectal_temp  pulse  respiratory_rate  \\\n0      no  adult           530101         38.5   66.0              28.0   \n1     yes  adult           534817         39.2   88.0              20.0   \n2      no  adult           530334         38.3   40.0              24.0   \n3     yes  young          5290409         39.1  164.0              84.0   \n4      no  adult           530255         37.3  104.0              35.0   \n\n  temp_of_extremities peripheral_pulse mucous_membrane capillary_refill_time  \\\n0                cool          reduced             NaN            more_3_sec   \n1                 NaN              NaN   pale_cyanotic            less_3_sec   \n2              normal           normal       pale_pink            less_3_sec   \n3                cold           normal   dark_cyanotic            more_3_sec   \n4                 NaN              NaN   dark_cyanotic            more_3_sec   \n\n   ... packed_cell_volume total_protein abdomo_appearance abdomo_protein  \\\n0  ...               45.0           8.4               NaN            NaN   \n1  ...               50.0          85.0            cloudy            2.0   \n2  ...               33.0           6.7               NaN            NaN   \n3  ...               48.0           7.2     serosanguious            5.3   \n4  ...               74.0           7.4               NaN            NaN   \n\n      outcome  surgical_lesion lesion_1 lesion_2  lesion_3  cp_data  \n0        died               no    11300        0         0       no  \n1  euthanized               no     2208        0         0       no  \n2       lived               no        0        0         0      yes  \n3        died              yes     2208        0         0      yes  \n4        died               no     4300        0         0       no  \n\n[5 rows x 28 columns]",
      "text/html": "<div>\n<style scoped>\n    .dataframe tbody tr th:only-of-type {\n        vertical-align: middle;\n    }\n\n    .dataframe tbody tr th {\n        vertical-align: top;\n    }\n\n    .dataframe thead th {\n        text-align: right;\n    }\n</style>\n<table border=\"1\" class=\"dataframe\">\n  <thead>\n    <tr style=\"text-align: right;\">\n      <th></th>\n      <th>surgery</th>\n      <th>age</th>\n      <th>hospital_number</th>\n      <th>rectal_temp</th>\n      <th>pulse</th>\n      <th>respiratory_rate</th>\n      <th>temp_of_extremities</th>\n      <th>peripheral_pulse</th>\n      <th>mucous_membrane</th>\n      <th>capillary_refill_time</th>\n      <th>...</th>\n      <th>packed_cell_volume</th>\n      <th>total_protein</th>\n      <th>abdomo_appearance</th>\n      <th>abdomo_protein</th>\n      <th>outcome</th>\n      <th>surgical_lesion</th>\n      <th>lesion_1</th>\n      <th>lesion_2</th>\n      <th>lesion_3</th>\n      <th>cp_data</th>\n    </tr>\n  </thead>\n  <tbody>\n    <tr>\n      <th>0</th>\n      <td>no</td>\n      <td>adult</td>\n      <td>530101</td>\n      <td>38.5</td>\n      <td>66.0</td>\n      <td>28.0</td>\n      <td>cool</td>\n      <td>reduced</td>\n      <td>NaN</td>\n      <td>more_3_sec</td>\n      <td>...</td>\n      <td>45.0</td>\n      <td>8.4</td>\n      <td>NaN</td>\n      <td>NaN</td>\n      <td>died</td>\n      <td>no</td>\n      <td>11300</td>\n      <td>0</td>\n      <td>0</td>\n      <td>no</td>\n    </tr>\n    <tr>\n      <th>1</th>\n      <td>yes</td>\n      <td>adult</td>\n      <td>534817</td>\n      <td>39.2</td>\n      <td>88.0</td>\n      <td>20.0</td>\n      <td>NaN</td>\n      <td>NaN</td>\n      <td>pale_cyanotic</td>\n      <td>less_3_sec</td>\n      <td>...</td>\n      <td>50.0</td>\n      <td>85.0</td>\n      <td>cloudy</td>\n      <td>2.0</td>\n      <td>euthanized</td>\n      <td>no</td>\n      <td>2208</td>\n      <td>0</td>\n      <td>0</td>\n      <td>no</td>\n    </tr>\n    <tr>\n      <th>2</th>\n      <td>no</td>\n      <td>adult</td>\n      <td>530334</td>\n      <td>38.3</td>\n      <td>40.0</td>\n      <td>24.0</td>\n      <td>normal</td>\n      <td>normal</td>\n      <td>pale_pink</td>\n      <td>less_3_sec</td>\n      <td>...</td>\n      <td>33.0</td>\n      <td>6.7</td>\n      <td>NaN</td>\n      <td>NaN</td>\n      <td>lived</td>\n      <td>no</td>\n      <td>0</td>\n      <td>0</td>\n      <td>0</td>\n      <td>yes</td>\n    </tr>\n    <tr>\n      <th>3</th>\n      <td>yes</td>\n      <td>young</td>\n      <td>5290409</td>\n      <td>39.1</td>\n      <td>164.0</td>\n      <td>84.0</td>\n      <td>cold</td>\n      <td>normal</td>\n      <td>dark_cyanotic</td>\n      <td>more_3_sec</td>\n      <td>...</td>\n      <td>48.0</td>\n      <td>7.2</td>\n      <td>serosanguious</td>\n      <td>5.3</td>\n      <td>died</td>\n      <td>yes</td>\n      <td>2208</td>\n      <td>0</td>\n      <td>0</td>\n      <td>yes</td>\n    </tr>\n    <tr>\n      <th>4</th>\n      <td>no</td>\n      <td>adult</td>\n      <td>530255</td>\n      <td>37.3</td>\n      <td>104.0</td>\n      <td>35.0</td>\n      <td>NaN</td>\n      <td>NaN</td>\n      <td>dark_cyanotic</td>\n      <td>more_3_sec</td>\n      <td>...</td>\n      <td>74.0</td>\n      <td>7.4</td>\n      <td>NaN</td>\n      <td>NaN</td>\n      <td>died</td>\n      <td>no</td>\n      <td>4300</td>\n      <td>0</td>\n      <td>0</td>\n      <td>no</td>\n    </tr>\n  </tbody>\n</table>\n<p>5 rows × 28 columns</p>\n</div>"
     },
     "execution_count": 166,
     "metadata": {},
     "output_type": "execute_result"
    }
   ],
   "source": [
    "animal_surv.head(5)"
   ],
   "metadata": {
    "collapsed": false,
    "pycharm": {
     "name": "#%%\n"
    }
   }
  },
  {
   "cell_type": "code",
   "execution_count": 167,
   "outputs": [
    {
     "data": {
      "text/plain": "surgery                    0\nage                        0\nhospital_number            0\nrectal_temp               60\npulse                     24\nrespiratory_rate          58\ntemp_of_extremities       56\nperipheral_pulse          69\nmucous_membrane           47\ncapillary_refill_time     32\npain                      55\nperistalsis               44\nabdominal_distention      56\nnasogastric_tube         104\nnasogastric_reflux       106\nnasogastric_reflux_ph    246\nrectal_exam_feces        102\nabdomen                  118\npacked_cell_volume        29\ntotal_protein             33\nabdomo_appearance        165\nabdomo_protein           198\noutcome                    0\nsurgical_lesion            0\nlesion_1                   0\nlesion_2                   0\nlesion_3                   0\ncp_data                    0\ndtype: int64"
     },
     "execution_count": 167,
     "metadata": {},
     "output_type": "execute_result"
    }
   ],
   "source": [
    "animal_surv.isna().sum()"
   ],
   "metadata": {
    "collapsed": false,
    "pycharm": {
     "name": "#%%\n"
    }
   }
  },
  {
   "cell_type": "code",
   "execution_count": 168,
   "outputs": [
    {
     "data": {
      "text/plain": "    surgery    age  hospital_number  rectal_temp  pulse  respiratory_rate  \\\n0        no  adult           530101         38.5   66.0              28.0   \n1       yes  adult           534817         39.2   88.0              20.0   \n2        no  adult           530334         38.3   40.0              24.0   \n3       yes  young          5290409         39.1  164.0              84.0   \n4        no  adult           530255         37.3  104.0              35.0   \n..      ...    ...              ...          ...    ...               ...   \n294     yes  adult           533886          NaN  120.0              70.0   \n295      no  adult           527702         37.2   72.0              24.0   \n296     yes  adult           529386         37.5   72.0              30.0   \n297     yes  adult           530612         36.5  100.0              24.0   \n298     yes  adult           534618         37.2   40.0              20.0   \n\n    temp_of_extremities peripheral_pulse mucous_membrane  \\\n0                  cool          reduced             NaN   \n1                   NaN              NaN   pale_cyanotic   \n2                normal           normal       pale_pink   \n3                  cold           normal   dark_cyanotic   \n4                   NaN              NaN   dark_cyanotic   \n..                  ...              ...             ...   \n294                cold              NaN   pale_cyanotic   \n295                cool        increased   pale_cyanotic   \n296                cold          reduced   pale_cyanotic   \n297                cool          reduced       pale_pink   \n298                 NaN              NaN             NaN   \n\n    capillary_refill_time  ... packed_cell_volume total_protein  \\\n0              more_3_sec  ...               45.0           8.4   \n1              less_3_sec  ...               50.0          85.0   \n2              less_3_sec  ...               33.0           6.7   \n3              more_3_sec  ...               48.0           7.2   \n4              more_3_sec  ...               74.0           7.4   \n..                    ...  ...                ...           ...   \n294            more_3_sec  ...               55.0          65.0   \n295            more_3_sec  ...               44.0           NaN   \n296            less_3_sec  ...               60.0           6.8   \n297            less_3_sec  ...               50.0           6.0   \n298                   NaN  ...               36.0          62.0   \n\n    abdomo_appearance abdomo_protein     outcome  surgical_lesion lesion_1  \\\n0                 NaN            NaN        died               no    11300   \n1              cloudy            2.0  euthanized               no     2208   \n2                 NaN            NaN       lived               no        0   \n3       serosanguious            5.3        died              yes     2208   \n4                 NaN            NaN        died               no     4300   \n..                ...            ...         ...              ...      ...   \n294               NaN            NaN  euthanized               no     3205   \n295     serosanguious            3.3  euthanized              yes     2208   \n296               NaN            NaN        died              yes     3205   \n297     serosanguious            3.4       lived              yes     2208   \n298             clear            1.0  euthanized               no     6112   \n\n    lesion_2  lesion_3  cp_data  \n0          0         0       no  \n1          0         0       no  \n2          0         0      yes  \n3          0         0      yes  \n4          0         0       no  \n..       ...       ...      ...  \n294        0         0       no  \n295        0         0      yes  \n296        0         0       no  \n297        0         0      yes  \n298        0         0       no  \n\n[299 rows x 28 columns]",
      "text/html": "<div>\n<style scoped>\n    .dataframe tbody tr th:only-of-type {\n        vertical-align: middle;\n    }\n\n    .dataframe tbody tr th {\n        vertical-align: top;\n    }\n\n    .dataframe thead th {\n        text-align: right;\n    }\n</style>\n<table border=\"1\" class=\"dataframe\">\n  <thead>\n    <tr style=\"text-align: right;\">\n      <th></th>\n      <th>surgery</th>\n      <th>age</th>\n      <th>hospital_number</th>\n      <th>rectal_temp</th>\n      <th>pulse</th>\n      <th>respiratory_rate</th>\n      <th>temp_of_extremities</th>\n      <th>peripheral_pulse</th>\n      <th>mucous_membrane</th>\n      <th>capillary_refill_time</th>\n      <th>...</th>\n      <th>packed_cell_volume</th>\n      <th>total_protein</th>\n      <th>abdomo_appearance</th>\n      <th>abdomo_protein</th>\n      <th>outcome</th>\n      <th>surgical_lesion</th>\n      <th>lesion_1</th>\n      <th>lesion_2</th>\n      <th>lesion_3</th>\n      <th>cp_data</th>\n    </tr>\n  </thead>\n  <tbody>\n    <tr>\n      <th>0</th>\n      <td>no</td>\n      <td>adult</td>\n      <td>530101</td>\n      <td>38.5</td>\n      <td>66.0</td>\n      <td>28.0</td>\n      <td>cool</td>\n      <td>reduced</td>\n      <td>NaN</td>\n      <td>more_3_sec</td>\n      <td>...</td>\n      <td>45.0</td>\n      <td>8.4</td>\n      <td>NaN</td>\n      <td>NaN</td>\n      <td>died</td>\n      <td>no</td>\n      <td>11300</td>\n      <td>0</td>\n      <td>0</td>\n      <td>no</td>\n    </tr>\n    <tr>\n      <th>1</th>\n      <td>yes</td>\n      <td>adult</td>\n      <td>534817</td>\n      <td>39.2</td>\n      <td>88.0</td>\n      <td>20.0</td>\n      <td>NaN</td>\n      <td>NaN</td>\n      <td>pale_cyanotic</td>\n      <td>less_3_sec</td>\n      <td>...</td>\n      <td>50.0</td>\n      <td>85.0</td>\n      <td>cloudy</td>\n      <td>2.0</td>\n      <td>euthanized</td>\n      <td>no</td>\n      <td>2208</td>\n      <td>0</td>\n      <td>0</td>\n      <td>no</td>\n    </tr>\n    <tr>\n      <th>2</th>\n      <td>no</td>\n      <td>adult</td>\n      <td>530334</td>\n      <td>38.3</td>\n      <td>40.0</td>\n      <td>24.0</td>\n      <td>normal</td>\n      <td>normal</td>\n      <td>pale_pink</td>\n      <td>less_3_sec</td>\n      <td>...</td>\n      <td>33.0</td>\n      <td>6.7</td>\n      <td>NaN</td>\n      <td>NaN</td>\n      <td>lived</td>\n      <td>no</td>\n      <td>0</td>\n      <td>0</td>\n      <td>0</td>\n      <td>yes</td>\n    </tr>\n    <tr>\n      <th>3</th>\n      <td>yes</td>\n      <td>young</td>\n      <td>5290409</td>\n      <td>39.1</td>\n      <td>164.0</td>\n      <td>84.0</td>\n      <td>cold</td>\n      <td>normal</td>\n      <td>dark_cyanotic</td>\n      <td>more_3_sec</td>\n      <td>...</td>\n      <td>48.0</td>\n      <td>7.2</td>\n      <td>serosanguious</td>\n      <td>5.3</td>\n      <td>died</td>\n      <td>yes</td>\n      <td>2208</td>\n      <td>0</td>\n      <td>0</td>\n      <td>yes</td>\n    </tr>\n    <tr>\n      <th>4</th>\n      <td>no</td>\n      <td>adult</td>\n      <td>530255</td>\n      <td>37.3</td>\n      <td>104.0</td>\n      <td>35.0</td>\n      <td>NaN</td>\n      <td>NaN</td>\n      <td>dark_cyanotic</td>\n      <td>more_3_sec</td>\n      <td>...</td>\n      <td>74.0</td>\n      <td>7.4</td>\n      <td>NaN</td>\n      <td>NaN</td>\n      <td>died</td>\n      <td>no</td>\n      <td>4300</td>\n      <td>0</td>\n      <td>0</td>\n      <td>no</td>\n    </tr>\n    <tr>\n      <th>...</th>\n      <td>...</td>\n      <td>...</td>\n      <td>...</td>\n      <td>...</td>\n      <td>...</td>\n      <td>...</td>\n      <td>...</td>\n      <td>...</td>\n      <td>...</td>\n      <td>...</td>\n      <td>...</td>\n      <td>...</td>\n      <td>...</td>\n      <td>...</td>\n      <td>...</td>\n      <td>...</td>\n      <td>...</td>\n      <td>...</td>\n      <td>...</td>\n      <td>...</td>\n      <td>...</td>\n    </tr>\n    <tr>\n      <th>294</th>\n      <td>yes</td>\n      <td>adult</td>\n      <td>533886</td>\n      <td>NaN</td>\n      <td>120.0</td>\n      <td>70.0</td>\n      <td>cold</td>\n      <td>NaN</td>\n      <td>pale_cyanotic</td>\n      <td>more_3_sec</td>\n      <td>...</td>\n      <td>55.0</td>\n      <td>65.0</td>\n      <td>NaN</td>\n      <td>NaN</td>\n      <td>euthanized</td>\n      <td>no</td>\n      <td>3205</td>\n      <td>0</td>\n      <td>0</td>\n      <td>no</td>\n    </tr>\n    <tr>\n      <th>295</th>\n      <td>no</td>\n      <td>adult</td>\n      <td>527702</td>\n      <td>37.2</td>\n      <td>72.0</td>\n      <td>24.0</td>\n      <td>cool</td>\n      <td>increased</td>\n      <td>pale_cyanotic</td>\n      <td>more_3_sec</td>\n      <td>...</td>\n      <td>44.0</td>\n      <td>NaN</td>\n      <td>serosanguious</td>\n      <td>3.3</td>\n      <td>euthanized</td>\n      <td>yes</td>\n      <td>2208</td>\n      <td>0</td>\n      <td>0</td>\n      <td>yes</td>\n    </tr>\n    <tr>\n      <th>296</th>\n      <td>yes</td>\n      <td>adult</td>\n      <td>529386</td>\n      <td>37.5</td>\n      <td>72.0</td>\n      <td>30.0</td>\n      <td>cold</td>\n      <td>reduced</td>\n      <td>pale_cyanotic</td>\n      <td>less_3_sec</td>\n      <td>...</td>\n      <td>60.0</td>\n      <td>6.8</td>\n      <td>NaN</td>\n      <td>NaN</td>\n      <td>died</td>\n      <td>yes</td>\n      <td>3205</td>\n      <td>0</td>\n      <td>0</td>\n      <td>no</td>\n    </tr>\n    <tr>\n      <th>297</th>\n      <td>yes</td>\n      <td>adult</td>\n      <td>530612</td>\n      <td>36.5</td>\n      <td>100.0</td>\n      <td>24.0</td>\n      <td>cool</td>\n      <td>reduced</td>\n      <td>pale_pink</td>\n      <td>less_3_sec</td>\n      <td>...</td>\n      <td>50.0</td>\n      <td>6.0</td>\n      <td>serosanguious</td>\n      <td>3.4</td>\n      <td>lived</td>\n      <td>yes</td>\n      <td>2208</td>\n      <td>0</td>\n      <td>0</td>\n      <td>yes</td>\n    </tr>\n    <tr>\n      <th>298</th>\n      <td>yes</td>\n      <td>adult</td>\n      <td>534618</td>\n      <td>37.2</td>\n      <td>40.0</td>\n      <td>20.0</td>\n      <td>NaN</td>\n      <td>NaN</td>\n      <td>NaN</td>\n      <td>NaN</td>\n      <td>...</td>\n      <td>36.0</td>\n      <td>62.0</td>\n      <td>clear</td>\n      <td>1.0</td>\n      <td>euthanized</td>\n      <td>no</td>\n      <td>6112</td>\n      <td>0</td>\n      <td>0</td>\n      <td>no</td>\n    </tr>\n  </tbody>\n</table>\n<p>299 rows × 28 columns</p>\n</div>"
     },
     "execution_count": 168,
     "metadata": {},
     "output_type": "execute_result"
    }
   ],
   "source": [
    "animal_surv.drop_duplicates()"
   ],
   "metadata": {
    "collapsed": false,
    "pycharm": {
     "name": "#%%\n"
    }
   }
  },
  {
   "cell_type": "code",
   "execution_count": 169,
   "outputs": [],
   "source": [
    "#animal_surv.dropna()"
   ],
   "metadata": {
    "collapsed": false,
    "pycharm": {
     "name": "#%%\n"
    }
   }
  },
  {
   "cell_type": "code",
   "execution_count": 170,
   "outputs": [],
   "source": [
    "#animal_surv.reset_index(drop=True)"
   ],
   "metadata": {
    "collapsed": false,
    "pycharm": {
     "name": "#%%\n"
    }
   }
  },
  {
   "cell_type": "markdown",
   "source": [],
   "metadata": {
    "collapsed": false,
    "pycharm": {
     "name": "#%% md\n"
    }
   }
  },
  {
   "cell_type": "markdown",
   "source": [
    "Extract outcome column to target variable\n"
   ],
   "metadata": {
    "collapsed": false,
    "pycharm": {
     "name": "#%% md\n"
    }
   }
  },
  {
   "cell_type": "code",
   "execution_count": 171,
   "outputs": [],
   "source": [
    "target = animal_surv['outcome']"
   ],
   "metadata": {
    "collapsed": false,
    "pycharm": {
     "name": "#%%\n"
    }
   }
  },
  {
   "cell_type": "markdown",
   "source": [
    "get unique values\n"
   ],
   "metadata": {
    "collapsed": false,
    "pycharm": {
     "name": "#%% md\n"
    }
   }
  },
  {
   "cell_type": "code",
   "execution_count": 172,
   "outputs": [
    {
     "data": {
      "text/plain": "array(['died', 'euthanized', 'lived'], dtype=object)"
     },
     "execution_count": 172,
     "metadata": {},
     "output_type": "execute_result"
    }
   ],
   "source": [
    "target.unique()\n"
   ],
   "metadata": {
    "collapsed": false,
    "pycharm": {
     "name": "#%%\n"
    }
   }
  },
  {
   "cell_type": "markdown",
   "source": [
    "drop 'outcome' column"
   ],
   "metadata": {
    "collapsed": false,
    "pycharm": {
     "name": "#%% md\n"
    }
   }
  },
  {
   "cell_type": "code",
   "execution_count": 173,
   "outputs": [],
   "source": [
    "animal_surv = animal_surv.drop(['outcome'],axis=1)"
   ],
   "metadata": {
    "collapsed": false,
    "pycharm": {
     "name": "#%%\n"
    }
   }
  },
  {
   "cell_type": "markdown",
   "source": [
    ",checking for categorical variables\n"
   ],
   "metadata": {
    "collapsed": false,
    "pycharm": {
     "name": "#%% md\n"
    }
   }
  },
  {
   "cell_type": "code",
   "execution_count": 174,
   "outputs": [
    {
     "data": {
      "text/plain": "object     16\nfloat64     7\nint64       4\ndtype: int64"
     },
     "execution_count": 174,
     "metadata": {},
     "output_type": "execute_result"
    }
   ],
   "source": [
    "animal_surv.dtypes.value_counts()"
   ],
   "metadata": {
    "collapsed": false,
    "pycharm": {
     "name": "#%%\n"
    }
   }
  },
  {
   "cell_type": "markdown",
   "source": [
    "checking for missing values"
   ],
   "metadata": {
    "collapsed": false,
    "pycharm": {
     "name": "#%% md\n"
    }
   }
  },
  {
   "cell_type": "markdown",
   "source": [
    " missing values need to be dealt with before fitting in any model."
   ],
   "metadata": {
    "collapsed": false,
    "pycharm": {
     "name": "#%% md\n"
    }
   }
  },
  {
   "cell_type": "code",
   "execution_count": 175,
   "outputs": [
    {
     "data": {
      "text/plain": "surgery                    0\nage                        0\nhospital_number            0\nrectal_temp               60\npulse                     24\nrespiratory_rate          58\ntemp_of_extremities       56\nperipheral_pulse          69\nmucous_membrane           47\ncapillary_refill_time     32\npain                      55\nperistalsis               44\nabdominal_distention      56\nnasogastric_tube         104\nnasogastric_reflux       106\nnasogastric_reflux_ph    246\nrectal_exam_feces        102\nabdomen                  118\npacked_cell_volume        29\ntotal_protein             33\nabdomo_appearance        165\nabdomo_protein           198\nsurgical_lesion            0\nlesion_1                   0\nlesion_2                   0\nlesion_3                   0\ncp_data                    0\ndtype: int64"
     },
     "execution_count": 175,
     "metadata": {},
     "output_type": "execute_result"
    }
   ],
   "source": [
    "animal_surv.isnull().sum()"
   ],
   "metadata": {
    "collapsed": false,
    "pycharm": {
     "name": "#%%\n"
    }
   }
  },
  {
   "cell_type": "code",
   "execution_count": 176,
   "outputs": [],
   "source": [
    "from sklearn.impute import SimpleImputer\n",
    "#fill the category value wirh most frequent value\n",
    "imputer = SimpleImputer(strategy='most_frequent')\n",
    "\n",
    "for column in animal_surv.columns:\n",
    "    if animal_surv[column].dtype == 'object':\n",
    "        imputed = imputer.fit_transform(animal_surv[column].values.reshape(-1,1))\n",
    "        animal_surv[column] = pd.DataFrame(imputed)"
   ],
   "metadata": {
    "collapsed": false,
    "pycharm": {
     "name": "#%%\n"
    }
   }
  },
  {
   "cell_type": "markdown",
   "source": [
    "check for Null values in categorical variables"
   ],
   "metadata": {
    "collapsed": false,
    "pycharm": {
     "name": "#%% md\n"
    }
   }
  },
  {
   "cell_type": "code",
   "execution_count": 177,
   "outputs": [
    {
     "data": {
      "text/plain": "surgery                    0\nage                        0\nhospital_number            0\nrectal_temp               60\npulse                     24\nrespiratory_rate          58\ntemp_of_extremities        0\nperipheral_pulse           0\nmucous_membrane            0\ncapillary_refill_time      0\npain                       0\nperistalsis                0\nabdominal_distention       0\nnasogastric_tube           0\nnasogastric_reflux         0\nnasogastric_reflux_ph    246\nrectal_exam_feces          0\nabdomen                    0\npacked_cell_volume        29\ntotal_protein             33\nabdomo_appearance          0\nabdomo_protein           198\nsurgical_lesion            0\nlesion_1                   0\nlesion_2                   0\nlesion_3                   0\ncp_data                    0\ndtype: int64"
     },
     "execution_count": 177,
     "metadata": {},
     "output_type": "execute_result"
    }
   ],
   "source": [
    "animal_surv.isnull().sum()"
   ],
   "metadata": {
    "collapsed": false,
    "pycharm": {
     "name": "#%%\n"
    }
   }
  },
  {
   "cell_type": "code",
   "execution_count": 180,
   "outputs": [],
   "source": [
    "from sklearn.impute import SimpleImputer\n",
    "imputer = SimpleImputer(strategy='median')   # Our strategy will be to fill the median value\n",
    "\n",
    "for column in animal_surv.columns:\n",
    "    if animal_surv[column].dtype != 'object':\n",
    "        imputed = imputer.fit_transform(animal_surv[column].values.reshape(-1,1))\n",
    "        animal_surv[column] = pd.DataFrame(imputed)"
   ],
   "metadata": {
    "collapsed": false,
    "pycharm": {
     "name": "#%%\n"
    }
   }
  },
  {
   "cell_type": "code",
   "execution_count": 181,
   "outputs": [
    {
     "data": {
      "text/plain": "surgery                  0\nage                      0\nhospital_number          0\nrectal_temp              0\npulse                    0\nrespiratory_rate         0\ntemp_of_extremities      0\nperipheral_pulse         0\nmucous_membrane          0\ncapillary_refill_time    0\npain                     0\nperistalsis              0\nabdominal_distention     0\nnasogastric_tube         0\nnasogastric_reflux       0\nnasogastric_reflux_ph    0\nrectal_exam_feces        0\nabdomen                  0\npacked_cell_volume       0\ntotal_protein            0\nabdomo_appearance        0\nabdomo_protein           0\nsurgical_lesion          0\nlesion_1                 0\nlesion_2                 0\nlesion_3                 0\ncp_data                  0\ndtype: int64"
     },
     "execution_count": 181,
     "metadata": {},
     "output_type": "execute_result"
    }
   ],
   "source": [
    "animal_surv.isnull().sum()"
   ],
   "metadata": {
    "collapsed": false,
    "pycharm": {
     "name": "#%%\n"
    }
   }
  },
  {
   "cell_type": "markdown",
   "source": [
    "convert categorical variables to numerical features using get_dummies()\n"
   ],
   "metadata": {
    "collapsed": false,
    "pycharm": {
     "name": "#%% md\n"
    }
   }
  },
  {
   "cell_type": "code",
   "execution_count": 182,
   "outputs": [],
   "source": [
    "animal_surv = pd.get_dummies(animal_surv)"
   ],
   "metadata": {
    "collapsed": false,
    "pycharm": {
     "name": "#%%\n"
    }
   }
  },
  {
   "cell_type": "markdown",
   "source": [],
   "metadata": {
    "collapsed": false,
    "pycharm": {
     "name": "#%% md\n"
    }
   }
  },
  {
   "cell_type": "markdown",
   "source": [
    "Encode target into numerical values.\n",
    "splitting our dataset into training and testing set in the ratio 8:2(test size=0.2)"
   ],
   "metadata": {
    "collapsed": false,
    "pycharm": {
     "name": "#%% md\n"
    }
   }
  },
  {
   "cell_type": "code",
   "execution_count": 188,
   "outputs": [],
   "source": [
    "from sklearn.model_selection import train_test_split\n",
    "from sklearn.preprocessing import LabelEncoder\n",
    "\n",
    "X,y = animal_surv, target\n",
    "\n",
    "encoder = LabelEncoder()\n",
    "y = encoder.fit_transform(y)\n",
    "\n",
    "X_train, X_test, y_train, y_test = train_test_split(X, y, test_size=0.2, random_state=1)"
   ],
   "metadata": {
    "collapsed": false,
    "pycharm": {
     "name": "#%%\n"
    }
   }
  },
  {
   "cell_type": "code",
   "execution_count": 189,
   "outputs": [
    {
     "name": "stdout",
     "output_type": "stream",
     "text": [
      "(239, 67)\n",
      "(60, 67)\n",
      "(239,)\n",
      "(60,)\n"
     ]
    }
   ],
   "source": [
    "print(X_train.shape)\n",
    "print(X_test.shape)\n",
    "print(y_train.shape)\n",
    "print(y_test.shape)"
   ],
   "metadata": {
    "collapsed": false,
    "pycharm": {
     "name": "#%%\n"
    }
   }
  },
  {
   "cell_type": "markdown",
   "source": [
    "comparing results of Decision Tree and other a Random Forest.\n",
    "Expecting Random Forest to give us a better result since its an Ensemble of decision trees"
   ],
   "metadata": {
    "collapsed": false,
    "pycharm": {
     "name": "#%% md\n"
    }
   }
  },
  {
   "cell_type": "code",
   "execution_count": 194,
   "outputs": [],
   "source": [
    "# fitting the Decision Tree classifier on our data\n",
    "from sklearn.tree import DecisionTreeClassifier\n",
    "classifier_tree = DecisionTreeClassifier().fit(X_train,y_train)\n",
    "\n",
    "y_predict = classifier_tree.predict(X_test)"
   ],
   "metadata": {
    "collapsed": false,
    "pycharm": {
     "name": "#%%\n"
    }
   }
  },
  {
   "cell_type": "code",
   "execution_count": 195,
   "outputs": [
    {
     "name": "stdout",
     "output_type": "stream",
     "text": [
      "accuracy_ score is:  0.6666666666666666\n",
      "\n"
     ]
    }
   ],
   "source": [
    "from sklearn.metrics import accuracy_score\n",
    "# Let's check model accuracy\n",
    "accuracy = accuracy_score(y_test, y_predict)\n",
    "print('accuracy_ score is: ', accuracy)\n",
    "print()"
   ],
   "metadata": {
    "collapsed": false,
    "pycharm": {
     "name": "#%%\n"
    }
   }
  },
  {
   "cell_type": "markdown",
   "source": [
    "accuracy_ score is 66.6%\n",
    "Its always a better approach to try out other models to search for better performance"
   ],
   "metadata": {
    "collapsed": false,
    "pycharm": {
     "name": "#%% md\n"
    }
   }
  },
  {
   "cell_type": "markdown",
   "source": [],
   "metadata": {
    "collapsed": false,
    "pycharm": {
     "name": "#%% md\n"
    }
   }
  },
  {
   "cell_type": "code",
   "execution_count": 196,
   "outputs": [],
   "source": [
    "# fitting the Random Forest classifier into our data\n",
    "from sklearn.ensemble import RandomForestClassifier\n",
    "classifier_2 = RandomForestClassifier().fit(X_train,y_train)\n",
    "\n",
    "y_predict_ran = classifier_2.predict(X_test)"
   ],
   "metadata": {
    "collapsed": false,
    "pycharm": {
     "name": "#%%\n"
    }
   }
  },
  {
   "cell_type": "code",
   "execution_count": 197,
   "outputs": [
    {
     "name": "stdout",
     "output_type": "stream",
     "text": [
      "Random Forest accuracy:  0.7166666666666667\n",
      "\n"
     ]
    }
   ],
   "source": [
    "# Let's check model accuracy\n",
    "accuracy = accuracy_score(y_test, y_predict_ran)\n",
    "print('Random Forest accuracy: ', accuracy)\n",
    "print()"
   ],
   "metadata": {
    "collapsed": false,
    "pycharm": {
     "name": "#%%\n"
    }
   }
  },
  {
   "cell_type": "markdown",
   "source": [
    "Random forest accuracy is 71.6% and produces a better prediction model as expected."
   ],
   "metadata": {
    "collapsed": false,
    "pycharm": {
     "name": "#%% md\n"
    }
   }
  },
  {
   "cell_type": "markdown",
   "source": [],
   "metadata": {
    "collapsed": false,
    "pycharm": {
     "name": "#%% md\n"
    }
   }
  }
 ],
 "metadata": {
  "kernelspec": {
   "display_name": "Python 3",
   "language": "python",
   "name": "python3"
  },
  "language_info": {
   "codemirror_mode": {
    "name": "ipython",
    "version": 2
   },
   "file_extension": ".py",
   "mimetype": "text/x-python",
   "name": "python",
   "nbconvert_exporter": "python",
   "pygments_lexer": "ipython2",
   "version": "2.7.6"
  }
 },
 "nbformat": 4,
 "nbformat_minor": 0
}