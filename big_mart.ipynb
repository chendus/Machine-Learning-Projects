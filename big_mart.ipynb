{
 "cells": [
  {
   "cell_type": "markdown",
   "source": [
    "Problem statement"
   ],
   "metadata": {
    "collapsed": false,
    "pycharm": {
     "name": "#%% md\n"
    }
   }
  },
  {
   "cell_type": "markdown",
   "source": [
    "The data scientists at Big Mart have collected sales data for 1559 products across ten stores in diff cities.\n",
    "A certain attribute of each product and store have been defined.\n",
    "The aim is to build a predictive model and find the sales figures of each product at a particular store"
   ],
   "metadata": {
    "collapsed": false,
    "pycharm": {
     "name": "#%% md\n"
    }
   }
  },
  {
   "cell_type": "markdown",
   "source": [
    "Factors that could affect the target variable \"sales\"\n",
    "1. Time of the weeek\n",
    "2. Time of the day\n",
    "3. Time of the year\n",
    "4. Store size and Location\n",
    "5. The item itself being sold"
   ],
   "metadata": {
    "collapsed": false,
    "pycharm": {
     "name": "#%% md\n"
    }
   }
  },
  {
   "cell_type": "markdown",
   "source": [
    "Import the Required Libraries"
   ],
   "metadata": {
    "collapsed": false,
    "pycharm": {
     "name": "#%% md\n"
    }
   }
  },
  {
   "cell_type": "code",
   "execution_count": 166,
   "metadata": {
    "collapsed": true,
    "pycharm": {
     "name": "#%%\n"
    }
   },
   "outputs": [],
   "source": [
    "import pandas as pd\n",
    "import numpy as np\n",
    "from sklearn.preprocessing import LabelEncoder\n",
    "#import Linear regression library from sklearn\n",
    "from sklearn.linear_model import LinearRegression\n",
    "from sklearn.metrics import r2_score, mean_squared_error\n",
    "import matplotlib.pyplot as plt\n",
    "%matplotlib inline\n"
   ]
  },
  {
   "cell_type": "markdown",
   "source": [
    "Load the train and test data set"
   ],
   "metadata": {
    "collapsed": false,
    "pycharm": {
     "name": "#%% md\n"
    }
   }
  },
  {
   "cell_type": "code",
   "execution_count": 167,
   "outputs": [],
   "source": [
    "train = pd.read_csv('bigmart_train.csv')\n",
    "test = pd.read_csv('bigmart_test.csv')"
   ],
   "metadata": {
    "collapsed": false,
    "pycharm": {
     "name": "#%%\n"
    }
   }
  },
  {
   "cell_type": "markdown",
   "source": [
    "check the number of rows and columns in the train dataset"
   ],
   "metadata": {
    "collapsed": false,
    "pycharm": {
     "name": "#%% md\n"
    }
   }
  },
  {
   "cell_type": "code",
   "execution_count": 168,
   "outputs": [
    {
     "data": {
      "text/plain": "(8523, 12)"
     },
     "execution_count": 168,
     "metadata": {},
     "output_type": "execute_result"
    }
   ],
   "source": [
    "train.shape"
   ],
   "metadata": {
    "collapsed": false,
    "pycharm": {
     "name": "#%%\n"
    }
   }
  },
  {
   "cell_type": "markdown",
   "source": [
    "Print the names of columns in train dataset"
   ],
   "metadata": {
    "collapsed": false,
    "pycharm": {
     "name": "#%% md\n"
    }
   }
  },
  {
   "cell_type": "code",
   "execution_count": 169,
   "outputs": [
    {
     "data": {
      "text/plain": "Index(['Item_Identifier', 'Item_Weight', 'Item_Fat_Content', 'Item_Visibility',\n       'Item_Type', 'Item_MRP', 'Outlet_Identifier',\n       'Outlet_Establishment_Year', 'Outlet_Size', 'Outlet_Location_Type',\n       'Outlet_Type', 'Item_Outlet_Sales'],\n      dtype='object')"
     },
     "execution_count": 169,
     "metadata": {},
     "output_type": "execute_result"
    }
   ],
   "source": [
    "train.columns"
   ],
   "metadata": {
    "collapsed": false,
    "pycharm": {
     "name": "#%%\n"
    }
   }
  },
  {
   "cell_type": "markdown",
   "source": [
    "check the number of rows and columns in the test data set"
   ],
   "metadata": {
    "collapsed": false,
    "pycharm": {
     "name": "#%% md\n"
    }
   }
  },
  {
   "cell_type": "code",
   "execution_count": 170,
   "outputs": [
    {
     "data": {
      "text/plain": "(5681, 11)"
     },
     "execution_count": 170,
     "metadata": {},
     "output_type": "execute_result"
    }
   ],
   "source": [
    "test.shape"
   ],
   "metadata": {
    "collapsed": false,
    "pycharm": {
     "name": "#%%\n"
    }
   }
  },
  {
   "cell_type": "markdown",
   "source": [
    "print the names of columns in test data set"
   ],
   "metadata": {
    "collapsed": false,
    "pycharm": {
     "name": "#%% md\n"
    }
   }
  },
  {
   "cell_type": "code",
   "execution_count": 171,
   "outputs": [
    {
     "data": {
      "text/plain": "Index(['Item_Identifier', 'Item_Weight', 'Item_Fat_Content', 'Item_Visibility',\n       'Item_Type', 'Item_MRP', 'Outlet_Identifier',\n       'Outlet_Establishment_Year', 'Outlet_Size', 'Outlet_Location_Type',\n       'Outlet_Type'],\n      dtype='object')"
     },
     "execution_count": 171,
     "metadata": {},
     "output_type": "execute_result"
    }
   ],
   "source": [
    "test.columns"
   ],
   "metadata": {
    "collapsed": false,
    "pycharm": {
     "name": "#%%\n"
    }
   }
  },
  {
   "cell_type": "markdown",
   "source": [
    "create a new column source"
   ],
   "metadata": {
    "collapsed": false,
    "pycharm": {
     "name": "#%% md\n"
    }
   }
  },
  {
   "cell_type": "code",
   "execution_count": 172,
   "outputs": [],
   "source": [
    "train['source'] = 'train'\n",
    "test['source'] = 'test'"
   ],
   "metadata": {
    "collapsed": false,
    "pycharm": {
     "name": "#%%\n"
    }
   }
  },
  {
   "cell_type": "markdown",
   "source": [
    "combine test and train into one file to perform EDA"
   ],
   "metadata": {
    "collapsed": false,
    "pycharm": {
     "name": "#%% md\n"
    }
   }
  },
  {
   "cell_type": "code",
   "execution_count": 173,
   "outputs": [
    {
     "name": "stdout",
     "output_type": "stream",
     "text": [
      "(14204, 13)\n"
     ]
    }
   ],
   "source": [
    "data1 = pd.concat([train,test], ignore_index=True)\n",
    "print(data1.shape)"
   ],
   "metadata": {
    "collapsed": false,
    "pycharm": {
     "name": "#%%\n"
    }
   }
  },
  {
   "cell_type": "code",
   "execution_count": 174,
   "outputs": [
    {
     "data": {
      "text/plain": "  Item_Identifier  Item_Weight Item_Fat_Content  Item_Visibility  \\\n0           FDA15         9.30          Low Fat         0.016047   \n1           DRC01         5.92          Regular         0.019278   \n2           FDN15        17.50          Low Fat         0.016760   \n3           FDX07        19.20          Regular         0.000000   \n4           NCD19         8.93          Low Fat         0.000000   \n\n               Item_Type  Item_MRP Outlet_Identifier  \\\n0                  Dairy  249.8092            OUT049   \n1            Soft Drinks   48.2692            OUT018   \n2                   Meat  141.6180            OUT049   \n3  Fruits and Vegetables  182.0950            OUT010   \n4              Household   53.8614            OUT013   \n\n   Outlet_Establishment_Year Outlet_Size Outlet_Location_Type  \\\n0                       1999      Medium               Tier 1   \n1                       2009      Medium               Tier 3   \n2                       1999      Medium               Tier 1   \n3                       1998         NaN               Tier 3   \n4                       1987        High               Tier 3   \n\n         Outlet_Type  Item_Outlet_Sales source  \n0  Supermarket Type1          3735.1380  train  \n1  Supermarket Type2           443.4228  train  \n2  Supermarket Type1          2097.2700  train  \n3      Grocery Store           732.3800  train  \n4  Supermarket Type1           994.7052  train  ",
      "text/html": "<div>\n<style scoped>\n    .dataframe tbody tr th:only-of-type {\n        vertical-align: middle;\n    }\n\n    .dataframe tbody tr th {\n        vertical-align: top;\n    }\n\n    .dataframe thead th {\n        text-align: right;\n    }\n</style>\n<table border=\"1\" class=\"dataframe\">\n  <thead>\n    <tr style=\"text-align: right;\">\n      <th></th>\n      <th>Item_Identifier</th>\n      <th>Item_Weight</th>\n      <th>Item_Fat_Content</th>\n      <th>Item_Visibility</th>\n      <th>Item_Type</th>\n      <th>Item_MRP</th>\n      <th>Outlet_Identifier</th>\n      <th>Outlet_Establishment_Year</th>\n      <th>Outlet_Size</th>\n      <th>Outlet_Location_Type</th>\n      <th>Outlet_Type</th>\n      <th>Item_Outlet_Sales</th>\n      <th>source</th>\n    </tr>\n  </thead>\n  <tbody>\n    <tr>\n      <th>0</th>\n      <td>FDA15</td>\n      <td>9.30</td>\n      <td>Low Fat</td>\n      <td>0.016047</td>\n      <td>Dairy</td>\n      <td>249.8092</td>\n      <td>OUT049</td>\n      <td>1999</td>\n      <td>Medium</td>\n      <td>Tier 1</td>\n      <td>Supermarket Type1</td>\n      <td>3735.1380</td>\n      <td>train</td>\n    </tr>\n    <tr>\n      <th>1</th>\n      <td>DRC01</td>\n      <td>5.92</td>\n      <td>Regular</td>\n      <td>0.019278</td>\n      <td>Soft Drinks</td>\n      <td>48.2692</td>\n      <td>OUT018</td>\n      <td>2009</td>\n      <td>Medium</td>\n      <td>Tier 3</td>\n      <td>Supermarket Type2</td>\n      <td>443.4228</td>\n      <td>train</td>\n    </tr>\n    <tr>\n      <th>2</th>\n      <td>FDN15</td>\n      <td>17.50</td>\n      <td>Low Fat</td>\n      <td>0.016760</td>\n      <td>Meat</td>\n      <td>141.6180</td>\n      <td>OUT049</td>\n      <td>1999</td>\n      <td>Medium</td>\n      <td>Tier 1</td>\n      <td>Supermarket Type1</td>\n      <td>2097.2700</td>\n      <td>train</td>\n    </tr>\n    <tr>\n      <th>3</th>\n      <td>FDX07</td>\n      <td>19.20</td>\n      <td>Regular</td>\n      <td>0.000000</td>\n      <td>Fruits and Vegetables</td>\n      <td>182.0950</td>\n      <td>OUT010</td>\n      <td>1998</td>\n      <td>NaN</td>\n      <td>Tier 3</td>\n      <td>Grocery Store</td>\n      <td>732.3800</td>\n      <td>train</td>\n    </tr>\n    <tr>\n      <th>4</th>\n      <td>NCD19</td>\n      <td>8.93</td>\n      <td>Low Fat</td>\n      <td>0.000000</td>\n      <td>Household</td>\n      <td>53.8614</td>\n      <td>OUT013</td>\n      <td>1987</td>\n      <td>High</td>\n      <td>Tier 3</td>\n      <td>Supermarket Type1</td>\n      <td>994.7052</td>\n      <td>train</td>\n    </tr>\n  </tbody>\n</table>\n</div>"
     },
     "execution_count": 174,
     "metadata": {},
     "output_type": "execute_result"
    }
   ],
   "source": [
    "data1.head()"
   ],
   "metadata": {
    "collapsed": false,
    "pycharm": {
     "name": "#%%\n"
    }
   }
  },
  {
   "cell_type": "code",
   "execution_count": 175,
   "outputs": [
    {
     "data": {
      "text/plain": "        Item_Weight  Item_Visibility      Item_MRP  Outlet_Establishment_Year  \\\ncount  11765.000000     14204.000000  14204.000000               14204.000000   \nmean      12.792854         0.065953    141.004977                1997.830681   \nstd        4.652502         0.051459     62.086938                   8.371664   \nmin        4.555000         0.000000     31.290000                1985.000000   \n25%        8.710000         0.027036     94.012000                1987.000000   \n50%       12.600000         0.054021    142.247000                1999.000000   \n75%       16.750000         0.094037    185.855600                2004.000000   \nmax       21.350000         0.328391    266.888400                2009.000000   \n\n       Item_Outlet_Sales  \ncount        8523.000000  \nmean         2181.288914  \nstd          1706.499616  \nmin            33.290000  \n25%           834.247400  \n50%          1794.331000  \n75%          3101.296400  \nmax         13086.964800  ",
      "text/html": "<div>\n<style scoped>\n    .dataframe tbody tr th:only-of-type {\n        vertical-align: middle;\n    }\n\n    .dataframe tbody tr th {\n        vertical-align: top;\n    }\n\n    .dataframe thead th {\n        text-align: right;\n    }\n</style>\n<table border=\"1\" class=\"dataframe\">\n  <thead>\n    <tr style=\"text-align: right;\">\n      <th></th>\n      <th>Item_Weight</th>\n      <th>Item_Visibility</th>\n      <th>Item_MRP</th>\n      <th>Outlet_Establishment_Year</th>\n      <th>Item_Outlet_Sales</th>\n    </tr>\n  </thead>\n  <tbody>\n    <tr>\n      <th>count</th>\n      <td>11765.000000</td>\n      <td>14204.000000</td>\n      <td>14204.000000</td>\n      <td>14204.000000</td>\n      <td>8523.000000</td>\n    </tr>\n    <tr>\n      <th>mean</th>\n      <td>12.792854</td>\n      <td>0.065953</td>\n      <td>141.004977</td>\n      <td>1997.830681</td>\n      <td>2181.288914</td>\n    </tr>\n    <tr>\n      <th>std</th>\n      <td>4.652502</td>\n      <td>0.051459</td>\n      <td>62.086938</td>\n      <td>8.371664</td>\n      <td>1706.499616</td>\n    </tr>\n    <tr>\n      <th>min</th>\n      <td>4.555000</td>\n      <td>0.000000</td>\n      <td>31.290000</td>\n      <td>1985.000000</td>\n      <td>33.290000</td>\n    </tr>\n    <tr>\n      <th>25%</th>\n      <td>8.710000</td>\n      <td>0.027036</td>\n      <td>94.012000</td>\n      <td>1987.000000</td>\n      <td>834.247400</td>\n    </tr>\n    <tr>\n      <th>50%</th>\n      <td>12.600000</td>\n      <td>0.054021</td>\n      <td>142.247000</td>\n      <td>1999.000000</td>\n      <td>1794.331000</td>\n    </tr>\n    <tr>\n      <th>75%</th>\n      <td>16.750000</td>\n      <td>0.094037</td>\n      <td>185.855600</td>\n      <td>2004.000000</td>\n      <td>3101.296400</td>\n    </tr>\n    <tr>\n      <th>max</th>\n      <td>21.350000</td>\n      <td>0.328391</td>\n      <td>266.888400</td>\n      <td>2009.000000</td>\n      <td>13086.964800</td>\n    </tr>\n  </tbody>\n</table>\n</div>"
     },
     "execution_count": 175,
     "metadata": {},
     "output_type": "execute_result"
    }
   ],
   "source": [
    "data1.describe()"
   ],
   "metadata": {
    "collapsed": false,
    "pycharm": {
     "name": "#%%\n"
    }
   }
  },
  {
   "cell_type": "code",
   "execution_count": 176,
   "outputs": [
    {
     "data": {
      "text/plain": "Item_Identifier                 0\nItem_Weight                  2439\nItem_Fat_Content                0\nItem_Visibility                 0\nItem_Type                       0\nItem_MRP                        0\nOutlet_Identifier               0\nOutlet_Establishment_Year       0\nOutlet_Size                  4016\nOutlet_Location_Type            0\nOutlet_Type                     0\nItem_Outlet_Sales            5681\nsource                          0\ndtype: int64"
     },
     "execution_count": 176,
     "metadata": {},
     "output_type": "execute_result"
    }
   ],
   "source": [
    "data1.isnull().sum()"
   ],
   "metadata": {
    "collapsed": false,
    "pycharm": {
     "name": "#%%\n"
    }
   }
  },
  {
   "cell_type": "code",
   "execution_count": 177,
   "outputs": [
    {
     "data": {
      "text/plain": "array(['Low Fat', 'Regular', 'low fat', 'LF', 'reg'], dtype=object)"
     },
     "execution_count": 177,
     "metadata": {},
     "output_type": "execute_result"
    }
   ],
   "source": [
    "data1[\"Item_Fat_Content\"].unique()"
   ],
   "metadata": {
    "collapsed": false,
    "pycharm": {
     "name": "#%%\n"
    }
   }
  },
  {
   "cell_type": "code",
   "execution_count": 178,
   "outputs": [
    {
     "data": {
      "text/plain": "array([1999, 2009, 1998, 1987, 1985, 2002, 2007, 1997, 2004])"
     },
     "execution_count": 178,
     "metadata": {},
     "output_type": "execute_result"
    }
   ],
   "source": [
    "data1[\"Outlet_Establishment_Year\"].unique()"
   ],
   "metadata": {
    "collapsed": false,
    "pycharm": {
     "name": "#%%\n"
    }
   }
  },
  {
   "cell_type": "markdown",
   "source": [
    "Date ranges from 1985 to 2009"
   ],
   "metadata": {
    "collapsed": false,
    "pycharm": {
     "name": "#%% md\n"
    }
   }
  },
  {
   "cell_type": "markdown",
   "source": [
    "Calculate the Outlet Age"
   ],
   "metadata": {
    "collapsed": false,
    "pycharm": {
     "name": "#%% md\n"
    }
   }
  },
  {
   "cell_type": "code",
   "execution_count": 179,
   "outputs": [
    {
     "data": {
      "text/plain": "  Item_Identifier  Item_Weight Item_Fat_Content  Item_Visibility    Item_Type  \\\n0           FDA15         9.30          Low Fat         0.016047        Dairy   \n1           DRC01         5.92          Regular         0.019278  Soft Drinks   \n\n   Item_MRP Outlet_Identifier  Outlet_Establishment_Year Outlet_Size  \\\n0  249.8092            OUT049                       1999      Medium   \n1   48.2692            OUT018                       2009      Medium   \n\n  Outlet_Location_Type        Outlet_Type  Item_Outlet_Sales source  \\\n0               Tier 1  Supermarket Type1          3735.1380  train   \n1               Tier 3  Supermarket Type2           443.4228  train   \n\n   Outlet_Age  \n0          19  \n1           9  ",
      "text/html": "<div>\n<style scoped>\n    .dataframe tbody tr th:only-of-type {\n        vertical-align: middle;\n    }\n\n    .dataframe tbody tr th {\n        vertical-align: top;\n    }\n\n    .dataframe thead th {\n        text-align: right;\n    }\n</style>\n<table border=\"1\" class=\"dataframe\">\n  <thead>\n    <tr style=\"text-align: right;\">\n      <th></th>\n      <th>Item_Identifier</th>\n      <th>Item_Weight</th>\n      <th>Item_Fat_Content</th>\n      <th>Item_Visibility</th>\n      <th>Item_Type</th>\n      <th>Item_MRP</th>\n      <th>Outlet_Identifier</th>\n      <th>Outlet_Establishment_Year</th>\n      <th>Outlet_Size</th>\n      <th>Outlet_Location_Type</th>\n      <th>Outlet_Type</th>\n      <th>Item_Outlet_Sales</th>\n      <th>source</th>\n      <th>Outlet_Age</th>\n    </tr>\n  </thead>\n  <tbody>\n    <tr>\n      <th>0</th>\n      <td>FDA15</td>\n      <td>9.30</td>\n      <td>Low Fat</td>\n      <td>0.016047</td>\n      <td>Dairy</td>\n      <td>249.8092</td>\n      <td>OUT049</td>\n      <td>1999</td>\n      <td>Medium</td>\n      <td>Tier 1</td>\n      <td>Supermarket Type1</td>\n      <td>3735.1380</td>\n      <td>train</td>\n      <td>19</td>\n    </tr>\n    <tr>\n      <th>1</th>\n      <td>DRC01</td>\n      <td>5.92</td>\n      <td>Regular</td>\n      <td>0.019278</td>\n      <td>Soft Drinks</td>\n      <td>48.2692</td>\n      <td>OUT018</td>\n      <td>2009</td>\n      <td>Medium</td>\n      <td>Tier 3</td>\n      <td>Supermarket Type2</td>\n      <td>443.4228</td>\n      <td>train</td>\n      <td>9</td>\n    </tr>\n  </tbody>\n</table>\n</div>"
     },
     "execution_count": 179,
     "metadata": {},
     "output_type": "execute_result"
    }
   ],
   "source": [
    "data1[\"Outlet_Age\"] = 2018-data1[\"Outlet_Establishment_Year\"]\n",
    "data1.head(2)"
   ],
   "metadata": {
    "collapsed": false,
    "pycharm": {
     "name": "#%%\n"
    }
   }
  },
  {
   "cell_type": "markdown",
   "source": [],
   "metadata": {
    "collapsed": false,
    "pycharm": {
     "name": "#%% md\n"
    }
   }
  },
  {
   "cell_type": "code",
   "execution_count": 180,
   "outputs": [
    {
     "data": {
      "text/plain": "array(['Medium', nan, 'High', 'Small'], dtype=object)"
     },
     "execution_count": 180,
     "metadata": {},
     "output_type": "execute_result"
    }
   ],
   "source": [
    "data1[\"Outlet_Size\"].unique()"
   ],
   "metadata": {
    "collapsed": false,
    "pycharm": {
     "name": "#%%\n"
    }
   }
  },
  {
   "cell_type": "markdown",
   "source": [
    "Column contains missing value"
   ],
   "metadata": {
    "collapsed": false,
    "pycharm": {
     "name": "#%% md\n"
    }
   }
  },
  {
   "cell_type": "code",
   "execution_count": 181,
   "outputs": [
    {
     "data": {
      "text/plain": "Low Fat    8485\nRegular    4824\nLF          522\nreg         195\nlow fat     178\nName: Item_Fat_Content, dtype: int64"
     },
     "execution_count": 181,
     "metadata": {},
     "output_type": "execute_result"
    }
   ],
   "source": [
    "data1[\"Item_Fat_Content\"].value_counts()"
   ],
   "metadata": {
    "collapsed": false,
    "pycharm": {
     "name": "#%%\n"
    }
   }
  },
  {
   "cell_type": "markdown",
   "source": [
    "We can see that low fat products are the most abadoned"
   ],
   "metadata": {
    "collapsed": false,
    "pycharm": {
     "name": "#%% md\n"
    }
   }
  },
  {
   "cell_type": "code",
   "execution_count": 182,
   "outputs": [
    {
     "data": {
      "text/plain": "Medium    4655\nSmall     3980\nHigh      1553\nName: Outlet_Size, dtype: int64"
     },
     "execution_count": 182,
     "metadata": {},
     "output_type": "execute_result"
    }
   ],
   "source": [
    "data1[\"Outlet_Size\"].value_counts()"
   ],
   "metadata": {
    "collapsed": false,
    "pycharm": {
     "name": "#%%\n"
    }
   }
  },
  {
   "cell_type": "markdown",
   "source": [
    "we can see that MEDIUM AND SMALL SCALE Outlets are the majority"
   ],
   "metadata": {
    "collapsed": false,
    "pycharm": {
     "name": "#%% md\n"
    }
   }
  },
  {
   "cell_type": "code",
   "execution_count": 183,
   "outputs": [
    {
     "data": {
      "text/plain": "'Medium'"
     },
     "execution_count": 183,
     "metadata": {},
     "output_type": "execute_result"
    }
   ],
   "source": [
    "#using the mode value to find out most common value in Outlet_size\n",
    "data1[\"Outlet_Size\"].mode()[0]"
   ],
   "metadata": {
    "collapsed": false,
    "pycharm": {
     "name": "#%%\n"
    }
   }
  },
  {
   "cell_type": "markdown",
   "source": [
    "We can see that Medium is the most common occuring value"
   ],
   "metadata": {
    "collapsed": false,
    "pycharm": {
     "name": "#%% md\n"
    }
   }
  },
  {
   "cell_type": "markdown",
   "source": [
    "Replace missing values in Outlet_size with value \"medium\"(mode)"
   ],
   "metadata": {
    "collapsed": false,
    "pycharm": {
     "name": "#%% md\n"
    }
   }
  },
  {
   "cell_type": "code",
   "execution_count": 184,
   "outputs": [],
   "source": [
    "data1[\"Outlet_Size\"] = data1[\"Outlet_Size\"].fillna(data1[\"Outlet_Size\"].mode()[0])"
   ],
   "metadata": {
    "collapsed": false,
    "pycharm": {
     "name": "#%%\n"
    }
   }
  },
  {
   "cell_type": "markdown",
   "source": [
    "replace missing values in Item_weight with mean weight"
   ],
   "metadata": {
    "collapsed": false,
    "pycharm": {
     "name": "#%% md\n"
    }
   }
  },
  {
   "cell_type": "code",
   "execution_count": 185,
   "outputs": [],
   "source": [
    "data1[\"Item_Weight\"] = data1[\"Item_Weight\"].fillna(data1[\"Item_Weight\"].mean())"
   ],
   "metadata": {
    "collapsed": false,
    "pycharm": {
     "name": "#%%\n"
    }
   }
  },
  {
   "cell_type": "markdown",
   "source": [
    "plotting hist to investgate the distribution of Item_Visibility column"
   ],
   "metadata": {
    "collapsed": false,
    "pycharm": {
     "name": "#%% md\n"
    }
   }
  },
  {
   "cell_type": "code",
   "execution_count": 186,
   "outputs": [
    {
     "data": {
      "text/plain": "<AxesSubplot:>"
     },
     "execution_count": 186,
     "metadata": {},
     "output_type": "execute_result"
    },
    {
     "data": {
      "text/plain": "<Figure size 432x288 with 1 Axes>",
      "image/png": "[encoded data removed]"
     },
     "metadata": {
      "needs_background": "light"
     },
     "output_type": "display_data"
    }
   ],
   "source": [
    "data1[\"Item_Visibility\"].hist(bins=20)"
   ],
   "metadata": {
    "collapsed": false,
    "pycharm": {
     "name": "#%%\n"
    }
   }
  },
  {
   "cell_type": "markdown",
   "source": [
    "Detecting Outliers\n",
    "An Outliner is a data point that lies outside the overall pattern in a distribution\n",
    "data points more than 1.5*IQR above the third quaryile and below the first quartile\n",
    "Remoce Outliers"
   ],
   "metadata": {
    "collapsed": false,
    "pycharm": {
     "name": "#%% md\n"
    }
   }
  },
  {
   "cell_type": "code",
   "execution_count": 187,
   "outputs": [],
   "source": [
    "#calc the first quantile for item_visibility\n",
    "Q1 = data1[\"Item_Visibility\"].quantile(0.25)"
   ],
   "metadata": {
    "collapsed": false,
    "pycharm": {
     "name": "#%%\n"
    }
   }
  },
  {
   "cell_type": "markdown",
   "source": [],
   "metadata": {
    "collapsed": false,
    "pycharm": {
     "name": "#%% md\n"
    }
   }
  },
  {
   "cell_type": "code",
   "execution_count": 188,
   "outputs": [],
   "source": [
    "#Calc the second quantile\n",
    "Q3 = data1[\"Item_Visibility\"].quantile(0.75)"
   ],
   "metadata": {
    "collapsed": false,
    "pycharm": {
     "name": "#%%\n"
    }
   }
  },
  {
   "cell_type": "code",
   "execution_count": 189,
   "outputs": [],
   "source": [
    "#calc the interquantile range(IQR)\n",
    "IQR = Q3 - Q1"
   ],
   "metadata": {
    "collapsed": false,
    "pycharm": {
     "name": "#%%\n"
    }
   }
  },
  {
   "cell_type": "markdown",
   "source": [
    "Now that the IQR range is Known,We can remove Outliers"
   ],
   "metadata": {
    "collapsed": false,
    "pycharm": {
     "name": "#%% md\n"
    }
   }
  },
  {
   "cell_type": "code",
   "execution_count": 190,
   "outputs": [],
   "source": [
    "fill_data = data1.query('(@Q1 - 1.5 * @IQR) <= Item_Visibility <= (@Q3 +1.5 * @IQR)')"
   ],
   "metadata": {
    "collapsed": false,
    "pycharm": {
     "name": "#%%\n"
    }
   }
  },
  {
   "cell_type": "code",
   "execution_count": 191,
   "outputs": [
    {
     "data": {
      "text/plain": "  Item_Identifier  Item_Weight Item_Fat_Content  Item_Visibility    Item_Type  \\\n0           FDA15         9.30          Low Fat         0.016047        Dairy   \n1           DRC01         5.92          Regular         0.019278  Soft Drinks   \n\n   Item_MRP Outlet_Identifier  Outlet_Establishment_Year Outlet_Size  \\\n0  249.8092            OUT049                       1999      Medium   \n1   48.2692            OUT018                       2009      Medium   \n\n  Outlet_Location_Type        Outlet_Type  Item_Outlet_Sales source  \\\n0               Tier 1  Supermarket Type1          3735.1380  train   \n1               Tier 3  Supermarket Type2           443.4228  train   \n\n   Outlet_Age  \n0          19  \n1           9  ",
      "text/html": "<div>\n<style scoped>\n    .dataframe tbody tr th:only-of-type {\n        vertical-align: middle;\n    }\n\n    .dataframe tbody tr th {\n        vertical-align: top;\n    }\n\n    .dataframe thead th {\n        text-align: right;\n    }\n</style>\n<table border=\"1\" class=\"dataframe\">\n  <thead>\n    <tr style=\"text-align: right;\">\n      <th></th>\n      <th>Item_Identifier</th>\n      <th>Item_Weight</th>\n      <th>Item_Fat_Content</th>\n      <th>Item_Visibility</th>\n      <th>Item_Type</th>\n      <th>Item_MRP</th>\n      <th>Outlet_Identifier</th>\n      <th>Outlet_Establishment_Year</th>\n      <th>Outlet_Size</th>\n      <th>Outlet_Location_Type</th>\n      <th>Outlet_Type</th>\n      <th>Item_Outlet_Sales</th>\n      <th>source</th>\n      <th>Outlet_Age</th>\n    </tr>\n  </thead>\n  <tbody>\n    <tr>\n      <th>0</th>\n      <td>FDA15</td>\n      <td>9.30</td>\n      <td>Low Fat</td>\n      <td>0.016047</td>\n      <td>Dairy</td>\n      <td>249.8092</td>\n      <td>OUT049</td>\n      <td>1999</td>\n      <td>Medium</td>\n      <td>Tier 1</td>\n      <td>Supermarket Type1</td>\n      <td>3735.1380</td>\n      <td>train</td>\n      <td>19</td>\n    </tr>\n    <tr>\n      <th>1</th>\n      <td>DRC01</td>\n      <td>5.92</td>\n      <td>Regular</td>\n      <td>0.019278</td>\n      <td>Soft Drinks</td>\n      <td>48.2692</td>\n      <td>OUT018</td>\n      <td>2009</td>\n      <td>Medium</td>\n      <td>Tier 3</td>\n      <td>Supermarket Type2</td>\n      <td>443.4228</td>\n      <td>train</td>\n      <td>9</td>\n    </tr>\n  </tbody>\n</table>\n</div>"
     },
     "execution_count": 191,
     "metadata": {},
     "output_type": "execute_result"
    }
   ],
   "source": [
    "fill_data.head(2)"
   ],
   "metadata": {
    "collapsed": false,
    "pycharm": {
     "name": "#%%\n"
    }
   }
  },
  {
   "cell_type": "code",
   "execution_count": 192,
   "outputs": [
    {
     "data": {
      "text/plain": "(13943, 14)"
     },
     "execution_count": 192,
     "metadata": {},
     "output_type": "execute_result"
    }
   ],
   "source": [
    "fill_data.shape"
   ],
   "metadata": {
    "collapsed": false,
    "pycharm": {
     "name": "#%%\n"
    }
   }
  },
  {
   "cell_type": "code",
   "execution_count": 193,
   "outputs": [
    {
     "data": {
      "text/plain": "(14204, 14)"
     },
     "execution_count": 193,
     "metadata": {},
     "output_type": "execute_result"
    }
   ],
   "source": [
    "data1.shape"
   ],
   "metadata": {
    "collapsed": false,
    "pycharm": {
     "name": "#%%\n"
    }
   }
  },
  {
   "cell_type": "markdown",
   "source": [
    "Assign the fill_data dataset to data1 dataframe"
   ],
   "metadata": {
    "collapsed": false,
    "pycharm": {
     "name": "#%% md\n"
    }
   }
  },
  {
   "cell_type": "code",
   "execution_count": 194,
   "outputs": [],
   "source": [
    "data1 = fill_data"
   ],
   "metadata": {
    "collapsed": false,
    "pycharm": {
     "name": "#%%\n"
    }
   }
  },
  {
   "cell_type": "markdown",
   "source": [
    "modify the Item_visibilty by converting numerical variables to categorical values"
   ],
   "metadata": {
    "collapsed": false,
    "pycharm": {
     "name": "#%% md\n"
    }
   }
  },
  {
   "cell_type": "code",
   "execution_count": 195,
   "outputs": [],
   "source": [
    "data1[\"Item_Visibility_bins\"] = pd.cut(data1[\"Item_Visibility\"], [0.000, 0.065, 0.13,0.2], labels=['Low Viz', 'Viz', 'High Viz'])"
   ],
   "metadata": {
    "collapsed": false,
    "pycharm": {
     "name": "#%%\n"
    }
   }
  },
  {
   "cell_type": "code",
   "execution_count": 196,
   "outputs": [
    {
     "data": {
      "text/plain": "Low Viz     7363\nViz         4283\nHigh Viz    1418\nName: Item_Visibility_bins, dtype: int64"
     },
     "execution_count": 196,
     "metadata": {},
     "output_type": "execute_result"
    }
   ],
   "source": [
    "data1[\"Item_Visibility_bins\"].value_counts()"
   ],
   "metadata": {
    "collapsed": false,
    "pycharm": {
     "name": "#%%\n"
    }
   }
  },
  {
   "cell_type": "markdown",
   "source": [
    "Replace Null values with low Viz because its the highest most occuring"
   ],
   "metadata": {
    "collapsed": false,
    "pycharm": {
     "name": "#%% md\n"
    }
   }
  },
  {
   "cell_type": "code",
   "execution_count": 197,
   "outputs": [],
   "source": [
    "data1[\"Item_Visibility_bins\"] = data1[\"Item_Visibility_bins\"].replace(np.nan, \"Low Viz\", regex = True)"
   ],
   "metadata": {
    "collapsed": false,
    "pycharm": {
     "name": "#%%\n"
    }
   }
  },
  {
   "cell_type": "markdown",
   "source": [
    "typos and differences in representation were found in Item_Fat content variable"
   ],
   "metadata": {
    "collapsed": false,
    "pycharm": {
     "name": "#%% md\n"
    }
   }
  },
  {
   "cell_type": "code",
   "execution_count": 198,
   "outputs": [
    {
     "data": {
      "text/plain": "array(['Low Fat', 'Regular', 'low fat', 'LF', 'reg'], dtype=object)"
     },
     "execution_count": 198,
     "metadata": {},
     "output_type": "execute_result"
    }
   ],
   "source": [
    "data1[\"Item_Fat_Content\"].unique()"
   ],
   "metadata": {
    "collapsed": false,
    "pycharm": {
     "name": "#%%\n"
    }
   }
  },
  {
   "cell_type": "code",
   "execution_count": 199,
   "outputs": [],
   "source": [
    "#replace all other representationns of low fat with Low fat\n",
    "data1[\"Item_Fat_Content\"] = data1[\"Item_Fat_Content\"].replace([\"low fat\",\"LF\"], \"Low Fat\")"
   ],
   "metadata": {
    "collapsed": false,
    "pycharm": {
     "name": "#%%\n"
    }
   }
  },
  {
   "cell_type": "code",
   "execution_count": 200,
   "outputs": [],
   "source": [
    "#replace alll representation of reg eith Regular\n",
    "data1[\"Item_Fat_Content\"] = data1[\"Item_Fat_Content\"].replace(\"reg\", \"Regular\")"
   ],
   "metadata": {
    "collapsed": false,
    "pycharm": {
     "name": "#%%\n"
    }
   }
  },
  {
   "cell_type": "code",
   "execution_count": 201,
   "outputs": [
    {
     "data": {
      "text/plain": "array(['Low Fat', 'Regular'], dtype=object)"
     },
     "execution_count": 201,
     "metadata": {},
     "output_type": "execute_result"
    }
   ],
   "source": [
    "data1[\"Item_Fat_Content\"].unique()"
   ],
   "metadata": {
    "collapsed": false,
    "pycharm": {
     "name": "#%%\n"
    }
   }
  },
  {
   "cell_type": "markdown",
   "source": [
    "Encode all categorical variables as numeric using 'LabelEncoder' from sklearn preprocessing module"
   ],
   "metadata": {
    "collapsed": false,
    "pycharm": {
     "name": "#%% md\n"
    }
   }
  },
  {
   "cell_type": "code",
   "execution_count": 202,
   "outputs": [],
   "source": [
    "#Initialize label encoder\n",
    "label_Encod = LabelEncoder()"
   ],
   "metadata": {
    "collapsed": false,
    "pycharm": {
     "name": "#%%\n"
    }
   }
  },
  {
   "cell_type": "markdown",
   "source": [],
   "metadata": {
    "collapsed": false,
    "pycharm": {
     "name": "#%% md\n"
    }
   }
  },
  {
   "cell_type": "code",
   "execution_count": 203,
   "outputs": [],
   "source": [
    "#Transform Item_Fat_Content\n",
    "data1[\"Item_Fat_Content\"] = label_Encod.fit_transform(data1[\"Item_Fat_Content\"])"
   ],
   "metadata": {
    "collapsed": false,
    "pycharm": {
     "name": "#%%\n"
    }
   }
  },
  {
   "cell_type": "code",
   "execution_count": 204,
   "outputs": [],
   "source": [
    "#transform Item_Visibility_bins\n",
    "data1[\"Item_Visibility_bins\"] = label_Encod.fit_transform(data1[\"Item_Visibility_bins\"])"
   ],
   "metadata": {
    "collapsed": false,
    "pycharm": {
     "name": "#%%\n"
    }
   }
  },
  {
   "cell_type": "code",
   "execution_count": 205,
   "outputs": [],
   "source": [
    "#transform outlet size\n",
    "data1[\"Outlet_Size\"] = label_Encod.fit_transform(data1[\"Outlet_Size\"])"
   ],
   "metadata": {
    "collapsed": false,
    "pycharm": {
     "name": "#%%\n"
    }
   }
  },
  {
   "cell_type": "code",
   "execution_count": 206,
   "outputs": [],
   "source": [
    "#ttransform Outlet_location_Type\n",
    "data1[\"Outlet_Location_Type\"] = label_Encod.fit_transform(data1[\"Outlet_Location_Type\"])"
   ],
   "metadata": {
    "collapsed": false,
    "pycharm": {
     "name": "#%%\n"
    }
   }
  },
  {
   "cell_type": "code",
   "execution_count": 207,
   "outputs": [
    {
     "data": {
      "text/plain": "array(['Supermarket Type1', 'Supermarket Type2', 'Grocery Store',\n       'Supermarket Type3'], dtype=object)"
     },
     "execution_count": 207,
     "metadata": {},
     "output_type": "execute_result"
    }
   ],
   "source": [
    "#print unique values of outlet type\n",
    "data1[\"Outlet_Type\"].unique()"
   ],
   "metadata": {
    "collapsed": false,
    "pycharm": {
     "name": "#%%\n"
    }
   }
  },
  {
   "cell_type": "code",
   "execution_count": 208,
   "outputs": [
    {
     "data": {
      "text/plain": "   Grocery Store  Supermarket Type1  Supermarket Type2  Supermarket Type3\n0              0                  1                  0                  0\n1              0                  0                  1                  0\n2              0                  1                  0                  0\n3              1                  0                  0                  0\n4              0                  1                  0                  0",
      "text/html": "<div>\n<style scoped>\n    .dataframe tbody tr th:only-of-type {\n        vertical-align: middle;\n    }\n\n    .dataframe tbody tr th {\n        vertical-align: top;\n    }\n\n    .dataframe thead th {\n        text-align: right;\n    }\n</style>\n<table border=\"1\" class=\"dataframe\">\n  <thead>\n    <tr style=\"text-align: right;\">\n      <th></th>\n      <th>Grocery Store</th>\n      <th>Supermarket Type1</th>\n      <th>Supermarket Type2</th>\n      <th>Supermarket Type3</th>\n    </tr>\n  </thead>\n  <tbody>\n    <tr>\n      <th>0</th>\n      <td>0</td>\n      <td>1</td>\n      <td>0</td>\n      <td>0</td>\n    </tr>\n    <tr>\n      <th>1</th>\n      <td>0</td>\n      <td>0</td>\n      <td>1</td>\n      <td>0</td>\n    </tr>\n    <tr>\n      <th>2</th>\n      <td>0</td>\n      <td>1</td>\n      <td>0</td>\n      <td>0</td>\n    </tr>\n    <tr>\n      <th>3</th>\n      <td>1</td>\n      <td>0</td>\n      <td>0</td>\n      <td>0</td>\n    </tr>\n    <tr>\n      <th>4</th>\n      <td>0</td>\n      <td>1</td>\n      <td>0</td>\n      <td>0</td>\n    </tr>\n  </tbody>\n</table>\n</div>"
     },
     "execution_count": 208,
     "metadata": {},
     "output_type": "execute_result"
    }
   ],
   "source": [
    "#create dummies for Outlet_Type\n",
    "dummy = pd.get_dummies(data1[\"Outlet_Type\"])\n",
    "dummy.head()"
   ],
   "metadata": {
    "collapsed": false,
    "pycharm": {
     "name": "#%%\n"
    }
   }
  },
  {
   "cell_type": "code",
   "execution_count": 209,
   "outputs": [
    {
     "data": {
      "text/plain": "0        FDA15\n1        DRC01\n2        FDN15\n3        FDX07\n4        NCD19\n         ...  \n14199    FDB58\n14200    FDD47\n14201    NCO17\n14202    FDJ26\n14203    FDU37\nName: Item_Identifier, Length: 13943, dtype: object"
     },
     "execution_count": 209,
     "metadata": {},
     "output_type": "execute_result"
    }
   ],
   "source": [
    "#explore the column identifier\n",
    "data1[\"Item_Identifier\"]"
   ],
   "metadata": {
    "collapsed": false,
    "pycharm": {
     "name": "#%%\n"
    }
   }
  },
  {
   "cell_type": "code",
   "execution_count": 210,
   "outputs": [
    {
     "data": {
      "text/plain": "FDE33    10\nFDM12    10\nFDY47    10\nFDT03    10\nFDO01    10\n         ..\nFDA10     7\nFDO33     7\nFDZ60     7\nNCW54     7\nFDG21     7\nName: Item_Identifier, Length: 1559, dtype: int64"
     },
     "execution_count": 210,
     "metadata": {},
     "output_type": "execute_result"
    }
   ],
   "source": [
    "data1[\"Item_Identifier\"].value_counts()"
   ],
   "metadata": {
    "collapsed": false,
    "pycharm": {
     "name": "#%%\n"
    }
   }
  },
  {
   "cell_type": "markdown",
   "source": [
    "As there are multiple values of food,non-consumable items and drinks with different numbers,combine the item type"
   ],
   "metadata": {
    "collapsed": false,
    "pycharm": {
     "name": "#%% md\n"
    }
   }
  },
  {
   "cell_type": "code",
   "execution_count": 211,
   "outputs": [],
   "source": [
    "data1[\"Item_Type_Combined\"] = data1[\"Item_Identifier\"].apply(lambda x:x[0:2])\n",
    "data1[\"Item_Type_Combined\"] = data1[\"Item_Type_Combined\"].map({'FD': 'Food',\n",
    "                                                               'NC': 'Non-Consumable',\n",
    "                                                               'DR': 'Drinks'})"
   ],
   "metadata": {
    "collapsed": false,
    "pycharm": {
     "name": "#%%\n"
    }
   }
  },
  {
   "cell_type": "code",
   "execution_count": 212,
   "outputs": [
    {
     "data": {
      "text/plain": "Food              9991\nNon-Consumable    2652\nDrinks            1300\nName: Item_Type_Combined, dtype: int64"
     },
     "execution_count": 212,
     "metadata": {},
     "output_type": "execute_result"
    }
   ],
   "source": [
    "data1[\"Item_Type_Combined\"].value_counts()"
   ],
   "metadata": {
    "collapsed": false,
    "pycharm": {
     "name": "#%%\n"
    }
   }
  },
  {
   "cell_type": "markdown",
   "source": [
    "Only 3 categories are present in the items_combined"
   ],
   "metadata": {
    "collapsed": false,
    "pycharm": {
     "name": "#%% md\n"
    }
   }
  },
  {
   "cell_type": "code",
   "execution_count": 213,
   "outputs": [
    {
     "data": {
      "text/plain": "(13943, 16)"
     },
     "execution_count": 213,
     "metadata": {},
     "output_type": "execute_result"
    }
   ],
   "source": [
    "data1.shape"
   ],
   "metadata": {
    "collapsed": false,
    "pycharm": {
     "name": "#%%\n"
    }
   }
  },
  {
   "cell_type": "markdown",
   "source": [
    "Performing one-hot coding for all columns as the model works on numerical values and not categorical values"
   ],
   "metadata": {
    "collapsed": false,
    "pycharm": {
     "name": "#%% md\n"
    }
   }
  },
  {
   "cell_type": "code",
   "execution_count": 214,
   "outputs": [],
   "source": [
    "data1 = pd.get_dummies(data1, columns=[\"Item_Fat_Content\",\"Outlet_Location_Type\",\"Outlet_Size\", \"Outlet_Type\", \"Item_Type_Combined\"])"
   ],
   "metadata": {
    "collapsed": false,
    "pycharm": {
     "name": "#%%\n"
    }
   }
  },
  {
   "cell_type": "code",
   "execution_count": 215,
   "outputs": [
    {
     "data": {
      "text/plain": "Item_Identifier                       object\nItem_Weight                          float64\nItem_Visibility                      float64\nItem_Type                             object\nItem_MRP                             float64\nOutlet_Identifier                     object\nOutlet_Establishment_Year              int64\nItem_Outlet_Sales                    float64\nsource                                object\nOutlet_Age                             int64\nItem_Visibility_bins                   int64\nItem_Fat_Content_0                     uint8\nItem_Fat_Content_1                     uint8\nOutlet_Location_Type_0                 uint8\nOutlet_Location_Type_1                 uint8\nOutlet_Location_Type_2                 uint8\nOutlet_Size_0                          uint8\nOutlet_Size_1                          uint8\nOutlet_Size_2                          uint8\nOutlet_Type_Grocery Store              uint8\nOutlet_Type_Supermarket Type1          uint8\nOutlet_Type_Supermarket Type2          uint8\nOutlet_Type_Supermarket Type3          uint8\nItem_Type_Combined_Drinks              uint8\nItem_Type_Combined_Food                uint8\nItem_Type_Combined_Non-Consumable      uint8\ndtype: object"
     },
     "execution_count": 215,
     "metadata": {},
     "output_type": "execute_result"
    }
   ],
   "source": [
    "data1.dtypes"
   ],
   "metadata": {
    "collapsed": false,
    "pycharm": {
     "name": "#%%\n"
    }
   }
  },
  {
   "cell_type": "markdown",
   "source": [
    "The categorical columns are mentioned as objects\n"
   ],
   "metadata": {
    "collapsed": false,
    "pycharm": {
     "name": "#%% md\n"
    }
   }
  },
  {
   "cell_type": "code",
   "execution_count": 216,
   "outputs": [],
   "source": [
    "import warnings\n",
    "warnings.filterwarnings('ignore')\n",
    "\n",
    "#Drop the columns which has been converted to different types\n",
    "data1.drop([\"Item_Type\",\"Outlet_Establishment_Year\"], axis=1, inplace=True)\n",
    "\n",
    "#split the data set created into train and test data set\n",
    "train = data1.loc[data1[\"source\"] == \"train\"]\n",
    "test = data1.loc[data1[\"source\"] == \"test\"]\n",
    "\n",
    "#drop unnecessary columns\n",
    "test.drop([\"Item_Outlet_Sales\", \"source\"], axis=1, inplace=True)\n",
    "train.drop([\"source\"], axis=1, inplace=True)\n",
    "\n",
    "#Export modified versions of the files\n",
    "train.to_csv(\"train_mod.csv\", index = False)\n",
    "test.to_csv(\"test_mod.csv\", index = False)"
   ],
   "metadata": {
    "collapsed": false,
    "pycharm": {
     "name": "#%%\n"
    }
   }
  },
  {
   "cell_type": "code",
   "execution_count": 217,
   "outputs": [],
   "source": [
    "#load the new train and test data set\n",
    "train2 = pd.read_csv(\"train_mod.csv\")\n",
    "test2 = pd.read_csv(\"test_mod.csv\")"
   ],
   "metadata": {
    "collapsed": false,
    "pycharm": {
     "name": "#%%\n"
    }
   }
  },
  {
   "cell_type": "code",
   "execution_count": 218,
   "outputs": [
    {
     "data": {
      "text/plain": "Item_Identifier                       object\nItem_Weight                          float64\nItem_Visibility                      float64\nItem_MRP                             float64\nOutlet_Identifier                     object\nItem_Outlet_Sales                    float64\nOutlet_Age                             int64\nItem_Visibility_bins                   int64\nItem_Fat_Content_0                     int64\nItem_Fat_Content_1                     int64\nOutlet_Location_Type_0                 int64\nOutlet_Location_Type_1                 int64\nOutlet_Location_Type_2                 int64\nOutlet_Size_0                          int64\nOutlet_Size_1                          int64\nOutlet_Size_2                          int64\nOutlet_Type_Grocery Store              int64\nOutlet_Type_Supermarket Type1          int64\nOutlet_Type_Supermarket Type2          int64\nOutlet_Type_Supermarket Type3          int64\nItem_Type_Combined_Drinks              int64\nItem_Type_Combined_Food                int64\nItem_Type_Combined_Non-Consumable      int64\ndtype: object"
     },
     "execution_count": 218,
     "metadata": {},
     "output_type": "execute_result"
    }
   ],
   "source": [
    "#print the data dtypes of train2 column\n",
    "train2.dtypes"
   ],
   "metadata": {
    "collapsed": false,
    "pycharm": {
     "name": "#%%\n"
    }
   }
  },
  {
   "cell_type": "code",
   "execution_count": 219,
   "outputs": [],
   "source": [
    "#drop the irrelevant variables from the test2 dataset\n",
    "#create the independent variable X_train and the dependent variable y_train\n",
    "X_train = train2.drop([\"Item_Outlet_Sales\", \"Outlet_Identifier\", \"Item_Identifier\"], axis =1)\n",
    "y_train = train2.Item_Outlet_Sales"
   ],
   "metadata": {
    "collapsed": false,
    "pycharm": {
     "name": "#%%\n"
    }
   }
  },
  {
   "cell_type": "code",
   "execution_count": 220,
   "outputs": [],
   "source": [
    "#drop those irrelevant variables from test2\n",
    "X_test = test2.drop([\"Outlet_Identifier\", \"Item_Identifier\"], axis =1)"
   ],
   "metadata": {
    "collapsed": false,
    "pycharm": {
     "name": "#%%\n"
    }
   }
  },
  {
   "cell_type": "code",
   "execution_count": 221,
   "outputs": [
    {
     "data": {
      "text/plain": "   Item_Weight  Item_Visibility  Item_MRP  Outlet_Age  Item_Visibility_bins  \\\n0        20.75         0.007565  107.8622          19                     1   \n1         8.30         0.038428   87.3198          11                     1   \n\n   Item_Fat_Content_0  Item_Fat_Content_1  Outlet_Location_Type_0  \\\n0                   1                   0                       1   \n1                   0                   1                       0   \n\n   Outlet_Location_Type_1  Outlet_Location_Type_2  Outlet_Size_0  \\\n0                       0                       0              0   \n1                       1                       0              0   \n\n   Outlet_Size_1  Outlet_Size_2  Outlet_Type_Grocery Store  \\\n0              1              0                          0   \n1              1              0                          0   \n\n   Outlet_Type_Supermarket Type1  Outlet_Type_Supermarket Type2  \\\n0                              1                              0   \n1                              1                              0   \n\n   Outlet_Type_Supermarket Type3  Item_Type_Combined_Drinks  \\\n0                              0                          0   \n1                              0                          0   \n\n   Item_Type_Combined_Food  Item_Type_Combined_Non-Consumable  \n0                        1                                  0  \n1                        1                                  0  ",
      "text/html": "<div>\n<style scoped>\n    .dataframe tbody tr th:only-of-type {\n        vertical-align: middle;\n    }\n\n    .dataframe tbody tr th {\n        vertical-align: top;\n    }\n\n    .dataframe thead th {\n        text-align: right;\n    }\n</style>\n<table border=\"1\" class=\"dataframe\">\n  <thead>\n    <tr style=\"text-align: right;\">\n      <th></th>\n      <th>Item_Weight</th>\n      <th>Item_Visibility</th>\n      <th>Item_MRP</th>\n      <th>Outlet_Age</th>\n      <th>Item_Visibility_bins</th>\n      <th>Item_Fat_Content_0</th>\n      <th>Item_Fat_Content_1</th>\n      <th>Outlet_Location_Type_0</th>\n      <th>Outlet_Location_Type_1</th>\n      <th>Outlet_Location_Type_2</th>\n      <th>Outlet_Size_0</th>\n      <th>Outlet_Size_1</th>\n      <th>Outlet_Size_2</th>\n      <th>Outlet_Type_Grocery Store</th>\n      <th>Outlet_Type_Supermarket Type1</th>\n      <th>Outlet_Type_Supermarket Type2</th>\n      <th>Outlet_Type_Supermarket Type3</th>\n      <th>Item_Type_Combined_Drinks</th>\n      <th>Item_Type_Combined_Food</th>\n      <th>Item_Type_Combined_Non-Consumable</th>\n    </tr>\n  </thead>\n  <tbody>\n    <tr>\n      <th>0</th>\n      <td>20.75</td>\n      <td>0.007565</td>\n      <td>107.8622</td>\n      <td>19</td>\n      <td>1</td>\n      <td>1</td>\n      <td>0</td>\n      <td>1</td>\n      <td>0</td>\n      <td>0</td>\n      <td>0</td>\n      <td>1</td>\n      <td>0</td>\n      <td>0</td>\n      <td>1</td>\n      <td>0</td>\n      <td>0</td>\n      <td>0</td>\n      <td>1</td>\n      <td>0</td>\n    </tr>\n    <tr>\n      <th>1</th>\n      <td>8.30</td>\n      <td>0.038428</td>\n      <td>87.3198</td>\n      <td>11</td>\n      <td>1</td>\n      <td>0</td>\n      <td>1</td>\n      <td>0</td>\n      <td>1</td>\n      <td>0</td>\n      <td>0</td>\n      <td>1</td>\n      <td>0</td>\n      <td>0</td>\n      <td>1</td>\n      <td>0</td>\n      <td>0</td>\n      <td>0</td>\n      <td>1</td>\n      <td>0</td>\n    </tr>\n  </tbody>\n</table>\n</div>"
     },
     "execution_count": 221,
     "metadata": {},
     "output_type": "execute_result"
    }
   ],
   "source": [
    "X_test.head(2)"
   ],
   "metadata": {
    "collapsed": false,
    "pycharm": {
     "name": "#%%\n"
    }
   }
  },
  {
   "cell_type": "code",
   "execution_count": 222,
   "outputs": [
    {
     "data": {
      "text/plain": "0    3735.1380\n1     443.4228\nName: Item_Outlet_Sales, dtype: float64"
     },
     "execution_count": 222,
     "metadata": {},
     "output_type": "execute_result"
    }
   ],
   "source": [
    "y_train.head(2)"
   ],
   "metadata": {
    "collapsed": false,
    "pycharm": {
     "name": "#%%\n"
    }
   }
  },
  {
   "cell_type": "code",
   "execution_count": 223,
   "outputs": [],
   "source": [
    "#import sklearn libraries\n",
    "from sklearn import model_selection\n",
    "from sklearn.linear_model import LinearRegression\n",
    "\n"
   ],
   "metadata": {
    "collapsed": false,
    "pycharm": {
     "name": "#%%\n"
    }
   }
  },
  {
   "cell_type": "code",
   "execution_count": 224,
   "outputs": [],
   "source": [
    "#create a train and test split\n",
    "xtrain,xtest,ytrain,ytest = model_selection.train_test_split(X_train, y_train, test_size=0.3, random_state=42)"
   ],
   "metadata": {
    "collapsed": false,
    "pycharm": {
     "name": "#%%\n"
    }
   }
  },
  {
   "cell_type": "code",
   "execution_count": 225,
   "outputs": [],
   "source": [
    "#fit linear regression to the training dataset\n",
    "lin =LinearRegression()"
   ],
   "metadata": {
    "collapsed": false,
    "pycharm": {
     "name": "#%%\n"
    }
   }
  },
  {
   "cell_type": "code",
   "execution_count": 226,
   "outputs": [
    {
     "data": {
      "text/plain": "LinearRegression()"
     },
     "execution_count": 226,
     "metadata": {},
     "output_type": "execute_result"
    }
   ],
   "source": [
    "lin.fit(xtrain,ytrain)"
   ],
   "metadata": {
    "collapsed": false,
    "pycharm": {
     "name": "#%%\n"
    }
   }
  },
  {
   "cell_type": "code",
   "execution_count": 227,
   "outputs": [
    {
     "name": "stdout",
     "output_type": "stream",
     "text": [
      "[-1.93054423e+00 -3.47449893e+02  1.58788136e+01 -3.19310190e+01\n",
      " -4.64698319e+00 -1.55426303e+00  1.55426303e+00  1.88969149e+02\n",
      "  4.83874237e+01 -2.37356573e+02  5.39972452e+02 -3.11545503e+02\n",
      " -2.28426949e+02 -1.63452944e+03 -1.26820412e+02 -3.48655405e+02\n",
      "  2.11000526e+03  9.06454503e+00  3.46403369e+01 -4.37048820e+01]\n"
     ]
    },
    {
     "data": {
      "text/plain": "946.4212171360878"
     },
     "execution_count": 227,
     "metadata": {},
     "output_type": "execute_result"
    }
   ],
   "source": [
    "#find the coefficient and intercept of the line\n",
    "#use xtrain and ytrain for linear regression\n",
    "print(lin.coef_)\n",
    "lin.intercept_"
   ],
   "metadata": {
    "collapsed": false,
    "pycharm": {
     "name": "#%%\n"
    }
   }
  },
  {
   "cell_type": "code",
   "execution_count": 228,
   "outputs": [
    {
     "data": {
      "text/plain": "array([2077.92386202, 3704.93216108, 2961.28180591, ..., 3541.28725867,\n       3464.78656382, 1249.59368407])"
     },
     "execution_count": 228,
     "metadata": {},
     "output_type": "execute_result"
    }
   ],
   "source": [
    "#predict the test set results of training data\n",
    "predictions = lin.predict(xtest)\n",
    "predictions"
   ],
   "metadata": {
    "collapsed": false,
    "pycharm": {
     "name": "#%%\n"
    }
   }
  },
  {
   "cell_type": "code",
   "execution_count": 229,
   "outputs": [
    {
     "name": "stdout",
     "output_type": "stream",
     "text": [
      "1126.2352692434754\n"
     ]
    }
   ],
   "source": [
    "#find the RMSE for the model\n",
    "import math\n",
    "print(math.sqrt(mean_squared_error(ytest,predictions)))"
   ],
   "metadata": {
    "collapsed": false,
    "pycharm": {
     "name": "#%%\n"
    }
   }
  },
  {
   "cell_type": "code",
   "execution_count": 230,
   "outputs": [],
   "source": [
    "#A good RMSE for this problem is 1130,we can improve the RMSE by using algorithms like decision tree,randorm forest and XGboost"
   ],
   "metadata": {
    "collapsed": false,
    "pycharm": {
     "name": "#%%\n"
    }
   }
  },
  {
   "cell_type": "code",
   "execution_count": 231,
   "outputs": [
    {
     "data": {
      "text/plain": "array([1788.81075495, 1593.90875193, 1845.79649796, ..., 1831.65421972,\n       3605.8573969 , 1284.78769015])"
     },
     "execution_count": 231,
     "metadata": {},
     "output_type": "execute_result"
    }
   ],
   "source": [
    "y_sales_pred = lin.predict(X_test)\n",
    "y_sales_pred"
   ],
   "metadata": {
    "collapsed": false,
    "pycharm": {
     "name": "#%%\n"
    }
   }
  },
  {
   "cell_type": "code",
   "execution_count": 236,
   "outputs": [],
   "source": [
    "test_predictions = pd.DataFrame({\n",
    "                                'Item_Identifier': test2['Item_Identifier'],\n",
    "                                 'Outlet_Identifier': test2['Outlet_Identifier'],\n",
    "                                 'Item_Outlet_Sales': y_sales_pred                                         }, columns = ['Item_Identifier', 'Outlet_Identifier', 'Item_Outlet_Sales'])"
   ],
   "metadata": {
    "collapsed": false,
    "pycharm": {
     "name": "#%%\n"
    }
   }
  },
  {
   "cell_type": "code",
   "execution_count": 237,
   "outputs": [
    {
     "data": {
      "text/plain": "     Item_Identifier Outlet_Identifier  Item_Outlet_Sales\n0              FDW58            OUT049        1788.810755\n1              FDW14            OUT017        1593.908752\n2              NCN55            OUT010        1845.796498\n3              FDQ58            OUT017        2675.927968\n4              FDY38            OUT027        5134.091429\n...              ...               ...                ...\n5563           FDB58            OUT046        2360.100059\n5564           FDD47            OUT018        2419.143609\n5565           NCO17            OUT045        1831.654220\n5566           FDJ26            OUT017        3605.857397\n5567           FDU37            OUT045        1284.787690\n\n[5568 rows x 3 columns]",
      "text/html": "<div>\n<style scoped>\n    .dataframe tbody tr th:only-of-type {\n        vertical-align: middle;\n    }\n\n    .dataframe tbody tr th {\n        vertical-align: top;\n    }\n\n    .dataframe thead th {\n        text-align: right;\n    }\n</style>\n<table border=\"1\" class=\"dataframe\">\n  <thead>\n    <tr style=\"text-align: right;\">\n      <th></th>\n      <th>Item_Identifier</th>\n      <th>Outlet_Identifier</th>\n      <th>Item_Outlet_Sales</th>\n    </tr>\n  </thead>\n  <tbody>\n    <tr>\n      <th>0</th>\n      <td>FDW58</td>\n      <td>OUT049</td>\n      <td>1788.810755</td>\n    </tr>\n    <tr>\n      <th>1</th>\n      <td>FDW14</td>\n      <td>OUT017</td>\n      <td>1593.908752</td>\n    </tr>\n    <tr>\n      <th>2</th>\n      <td>NCN55</td>\n      <td>OUT010</td>\n      <td>1845.796498</td>\n    </tr>\n    <tr>\n      <th>3</th>\n      <td>FDQ58</td>\n      <td>OUT017</td>\n      <td>2675.927968</td>\n    </tr>\n    <tr>\n      <th>4</th>\n      <td>FDY38</td>\n      <td>OUT027</td>\n      <td>5134.091429</td>\n    </tr>\n    <tr>\n      <th>...</th>\n      <td>...</td>\n      <td>...</td>\n      <td>...</td>\n    </tr>\n    <tr>\n      <th>5563</th>\n      <td>FDB58</td>\n      <td>OUT046</td>\n      <td>2360.100059</td>\n    </tr>\n    <tr>\n      <th>5564</th>\n      <td>FDD47</td>\n      <td>OUT018</td>\n      <td>2419.143609</td>\n    </tr>\n    <tr>\n      <th>5565</th>\n      <td>NCO17</td>\n      <td>OUT045</td>\n      <td>1831.654220</td>\n    </tr>\n    <tr>\n      <th>5566</th>\n      <td>FDJ26</td>\n      <td>OUT017</td>\n      <td>3605.857397</td>\n    </tr>\n    <tr>\n      <th>5567</th>\n      <td>FDU37</td>\n      <td>OUT045</td>\n      <td>1284.787690</td>\n    </tr>\n  </tbody>\n</table>\n<p>5568 rows × 3 columns</p>\n</div>"
     },
     "execution_count": 237,
     "metadata": {},
     "output_type": "execute_result"
    }
   ],
   "source": [
    "test_predictions"
   ],
   "metadata": {
    "collapsed": false,
    "pycharm": {
     "name": "#%%\n"
    }
   }
  },
  {
   "cell_type": "markdown",
   "source": [
    "I made a Hypothesis about the data without looking at it\n",
    "\n",
    "Explored the data and found some nuances in the data which required remediation\n",
    "\n",
    "performed data cleaning and feature engineering and inputed missing values and solved other irregularities\n",
    "\n",
    "Made new features and also made the data model friendly using one-hot encoding\n",
    "\n",
    "Built the regression model"
   ],
   "metadata": {
    "collapsed": false,
    "pycharm": {
     "name": "#%% md\n"
    }
   }
  },
  {
   "cell_type": "code",
   "execution_count": 233,
   "outputs": [],
   "source": [],
   "metadata": {
    "collapsed": false,
    "pycharm": {
     "name": "#%%\n"
    }
   }
  }
 ],
 "metadata": {
  "kernelspec": {
   "display_name": "Python 3",
   "language": "python",
   "name": "python3"
  },
  "language_info": {
   "codemirror_mode": {
    "name": "ipython",
    "version": 2
   },
   "file_extension": ".py",
   "mimetype": "text/x-python",
   "name": "python",
   "nbconvert_exporter": "python",
   "pygments_lexer": "ipython2",
   "version": "2.7.6"
  }
 },
 "nbformat": 4,
 "nbformat_minor": 0
}